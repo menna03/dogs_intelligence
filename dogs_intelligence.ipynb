{
  "nbformat": 4,
  "nbformat_minor": 0,
  "metadata": {
    "colab": {
      "private_outputs": true,
      "provenance": [],
      "authorship_tag": "ABX9TyPOsminG3ca8mgQVoPCLR4R",
      "include_colab_link": true
    },
    "kernelspec": {
      "name": "python3",
      "display_name": "Python 3"
    },
    "language_info": {
      "name": "python"
    }
  },
  "cells": [
    {
      "cell_type": "markdown",
      "metadata": {
        "id": "view-in-github",
        "colab_type": "text"
      },
      "source": [
        "<a href=\"https://colab.research.google.com/github/menna03/dogs_intelligence/blob/main/dogs_intelligence.ipynb\" target=\"_parent\"><img src=\"https://colab.research.google.com/assets/colab-badge.svg\" alt=\"Open In Colab\"/></a>"
      ]
    },
    {
      "cell_type": "code",
      "execution_count": null,
      "metadata": {
        "id": "dq7hc-oqgfiZ"
      },
      "outputs": [],
      "source": [
        "\n",
        "import pandas as pd\n",
        "import numpy as np\n",
        "import matplotlib.pyplot as plt\n",
        "import seaborn as sns\n",
        "from sklearn.preprocessing import LabelEncoder"
      ]
    },
    {
      "cell_type": "code",
      "source": [
        "DI = pd.read_csv('/content/dog_intelligence.csv')\n",
        "DI.head()"
      ],
      "metadata": {
        "id": "j35ZplVYg2e4"
      },
      "execution_count": null,
      "outputs": []
    },
    {
      "cell_type": "code",
      "source": [
        "DI.dtypes"
      ],
      "metadata": {
        "id": "-bQb5UIeg9Rh"
      },
      "execution_count": null,
      "outputs": []
    },
    {
      "cell_type": "code",
      "source": [
        "DI.duplicated().sum()\n"
      ],
      "metadata": {
        "id": "5lGi1uDsog89"
      },
      "execution_count": null,
      "outputs": []
    },
    {
      "cell_type": "code",
      "source": [
        "DI.describe()\n"
      ],
      "metadata": {
        "id": "--9o8t1Ysng3"
      },
      "execution_count": null,
      "outputs": []
    },
    {
      "cell_type": "code",
      "source": [
        "DI.value_counts('Classification')\n"
      ],
      "metadata": {
        "id": "tPBCQfXfhEw3"
      },
      "execution_count": null,
      "outputs": []
    },
    {
      "cell_type": "code",
      "source": [
        "sns.pairplot(DI, hue='Classification')\n"
      ],
      "metadata": {
        "id": "sUYrGHuj2NGl"
      },
      "execution_count": null,
      "outputs": []
    },
    {
      "cell_type": "code",
      "source": [
        "\n",
        "DI=DI.replace({'Average Working/Obedience Intelligence':0, 'Above Average Working Dogs':1,'Fair Working/Obedience Intelligence':2,'Excellent Working Dogs':3,'Lowest Degree of Working/Obedience Intelligence ':4,'Brightest Dogs':5})\n",
        "\n"
      ],
      "metadata": {
        "id": "6_I3H2UAka3c"
      },
      "execution_count": null,
      "outputs": []
    },
    {
      "cell_type": "code",
      "source": [
        "sns.pairplot(DI, hue='Breed')\n"
      ],
      "metadata": {
        "id": "qAua1sjflojZ"
      },
      "execution_count": null,
      "outputs": []
    },
    {
      "cell_type": "code",
      "source": [
        "DI.value_counts('Classification')\n"
      ],
      "metadata": {
        "id": "94oxGVORljqG"
      },
      "execution_count": null,
      "outputs": []
    },
    {
      "cell_type": "code",
      "source": [
        "DI.value_counts('obey')\n"
      ],
      "metadata": {
        "id": "KT6VEZnNp2kB"
      },
      "execution_count": null,
      "outputs": []
    },
    {
      "cell_type": "code",
      "source": [
        "breed_counts = DI['Breed'].value_counts()\n",
        "breed_mapping = {breed: i for i, breed in enumerate(breed_counts.index)}\n",
        "DI['Breed'] = DI['Breed'].map(breed_mapping)\n",
        "\n"
      ],
      "metadata": {
        "id": "zONuVfGvog5l"
      },
      "execution_count": null,
      "outputs": []
    },
    {
      "cell_type": "code",
      "source": [
        "DI.isna().sum()* 100 / len(DI)\n"
      ],
      "metadata": {
        "id": "HjI0iX4DjVYL"
      },
      "execution_count": null,
      "outputs": []
    },
    {
      "cell_type": "code",
      "source": [
        "# remove the % sign from the 'obey' column\n",
        "DI['obey'] = DI['obey'].str.replace('%', '')\n",
        "\n"
      ],
      "metadata": {
        "id": "6mbrJsMii9qv"
      },
      "execution_count": null,
      "outputs": []
    },
    {
      "cell_type": "code",
      "source": [
        "DI['obey']  = DI['obey'] .str[0:1]\n",
        "\n",
        "DI['obey'] =pd.to_numeric(DI['obey'], errors='coerce')\n",
        "DI['obey']=DI['obey']*10"
      ],
      "metadata": {
        "id": "ikd0Q5D-xr9D"
      },
      "execution_count": null,
      "outputs": []
    },
    {
      "cell_type": "code",
      "source": [
        "DI.shape"
      ],
      "metadata": {
        "id": "QT3uoQvqjdbE"
      },
      "execution_count": null,
      "outputs": []
    },
    {
      "cell_type": "code",
      "source": [
        "DI.dtypes"
      ],
      "metadata": {
        "id": "EvJY5O0ZkNzo"
      },
      "execution_count": null,
      "outputs": []
    },
    {
      "cell_type": "code",
      "source": [
        "DI.value_counts('obey')\n"
      ],
      "metadata": {
        "id": "CR62Mwk-xKCX"
      },
      "execution_count": null,
      "outputs": []
    },
    {
      "cell_type": "code",
      "source": [
        "\n",
        "cols = DI.columns \n",
        "for col in cols:\n",
        "    sns.boxplot(data=DI, x=col)\n",
        "    plt.show()\n",
        "     "
      ],
      "metadata": {
        "id": "neilhHDQ7s24"
      },
      "execution_count": null,
      "outputs": []
    },
    {
      "cell_type": "code",
      "source": [
        "\n",
        "X = DI.iloc[:, :-1].values\n",
        "y = DI.iloc[:, -1].values"
      ],
      "metadata": {
        "id": "lFCeSbZ6mdnT"
      },
      "execution_count": null,
      "outputs": []
    },
    {
      "cell_type": "code",
      "source": [
        "from sklearn.compose import ColumnTransformer\n",
        "from sklearn.preprocessing import OneHotEncoder\n",
        "ct = ColumnTransformer(transformers=[('encoder', OneHotEncoder(), [3])], remainder='passthrough')\n",
        "X = np.array(ct.fit_transform(X))\n",
        "     "
      ],
      "metadata": {
        "id": "OmDf3LLRmsH6"
      },
      "execution_count": null,
      "outputs": []
    },
    {
      "cell_type": "code",
      "source": [
        "DI.dropna(inplace=True)\n",
        "from sklearn.model_selection import train_test_split"
      ],
      "metadata": {
        "id": "DKyOBe39mvag"
      },
      "execution_count": null,
      "outputs": []
    },
    {
      "cell_type": "markdown",
      "source": [
        "\n",
        "from sklearn.linear_model import LinearRegression\n",
        "regressor = LinearRegression()\n",
        "regressor.fit(X_train, y_train)"
      ],
      "metadata": {
        "id": "NfCDrSJPm2nu"
      }
    },
    {
      "cell_type": "code",
      "source": [
        "\n",
        "from sklearn.linear_model import LinearRegression\n",
        "from sklearn.metrics import r2_score\n",
        "\n",
        "# Split the dataset into train and test sets\n",
        "X = DI.drop('Breed', axis=1)\n",
        "y = DI['Breed']\n",
        "X_train, X_test, y_train, y_test = train_test_split(X, y, test_size=0.2, random_state=0)\n",
        "\n"
      ],
      "metadata": {
        "id": "xLIpmh6CntrM"
      },
      "execution_count": null,
      "outputs": []
    },
    {
      "cell_type": "code",
      "source": [
        "regressor = LinearRegression()\n",
        "regressor.fit(X_train, y_train)"
      ],
      "metadata": {
        "id": "G-iI77B22kab"
      },
      "execution_count": null,
      "outputs": []
    },
    {
      "cell_type": "code",
      "source": [
        "y_pred = regressor.predict(X_test)\n"
      ],
      "metadata": {
        "id": "2b7O9sqR2l36"
      },
      "execution_count": null,
      "outputs": []
    },
    {
      "cell_type": "code",
      "source": [
        "r2 = r2_score(y_test, y_pred)\n"
      ],
      "metadata": {
        "id": "5NNC41VC2pJA"
      },
      "execution_count": null,
      "outputs": []
    },
    {
      "cell_type": "code",
      "source": [
        "\n",
        "from sklearn.metrics import r2_score\n",
        "r2_score(y_test, y_pred)"
      ],
      "metadata": {
        "id": "Bnsf89XKm48x"
      },
      "execution_count": null,
      "outputs": []
    },
    {
      "cell_type": "markdown",
      "source": [
        "First, we check the types of data in our DataFrame using the 'dtypes' attribute to see if we have any missing or incorrect values. Then we use the 'duplicated()' method to check if we have any duplicate rows in our dataset.\n",
        "\n",
        "Next, we describe our dataset using the 'describe()' method to get a summary of the data. We want to understand the range of values and get some insights into the data.\n",
        "\n",
        "We convert the values in the 'Classification' column to numerical values using the 'replace()' method so that we can use them in our model. We also use the 'value_counts()' and 'map()' methods to encode the 'Breed' column to numerical values.\n",
        "\n",
        "We check for missing values in our dataset using the 'isna()' method and find that we have some missing values. So we clean the 'obey' column by removing the '%' sign and converting it to a float value. Then we rescale the 'obey' column values to a 0-100 scale.\n",
        "\n",
        "We use the 'pairplot()' function from seaborn to visualize the relationship between the variables in our dataset. This helps us see if there are any patterns or correlations between the variables.\n",
        "\n",
        "We split our dataset into training and test sets using the 'train_test_split()' method from sklearn. Then we apply OneHotEncoding to the 'Breed' column using the 'ColumnTransformer' and 'OneHotEncoder' classes. This is a way to encode categorical variables into numerical values so that we can use them in our model."
      ],
      "metadata": {
        "id": "cp7TSL7H0I3Q"
      }
    }
  ]
}